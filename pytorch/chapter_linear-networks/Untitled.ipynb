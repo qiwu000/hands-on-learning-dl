{
 "cells": [
  {
   "cell_type": "code",
   "execution_count": 16,
   "id": "3da4bdb4",
   "metadata": {},
   "outputs": [
    {
     "data": {
      "text/plain": [
       "tensor([[ 0.0008,  0.0011,  0.0085,  0.0228, -0.0118,  0.0017],\n",
       "        [ 0.0272,  0.0092,  0.0190,  0.0024, -0.0061,  0.0051],\n",
       "        [ 0.0065,  0.0176,  0.0073,  0.0158,  0.0136,  0.0099],\n",
       "        [ 0.0186, -0.0201, -0.0062, -0.0191,  0.0047, -0.0031],\n",
       "        [-0.0145, -0.0043, -0.0076, -0.0053,  0.0126,  0.0001]])"
      ]
     },
     "execution_count": 16,
     "metadata": {},
     "output_type": "execute_result"
    }
   ],
   "source": [
    "%matplotlib inline\n",
    "import torch\n",
    "from d2l import torch as d2l\n",
    "\n",
    "\n",
    "x = torch.normal(0,0.01,(5,6))\n",
    "x"
   ]
  },
  {
   "cell_type": "code",
   "execution_count": 14,
   "id": "2ea8c6c5",
   "metadata": {},
   "outputs": [
    {
     "data": {
      "text/plain": [
       "tensor([[-0.0087,  0.0122,  0.0083, -0.0082, -0.0069,  0.0077,  0.0046, -0.0003,\n",
       "          0.0103,  0.0038],\n",
       "        [ 0.0018, -0.0018, -0.0113, -0.0057, -0.0085,  0.0029, -0.0149, -0.0032,\n",
       "          0.0061, -0.0078],\n",
       "        [-0.0030, -0.0107, -0.0054,  0.0002,  0.0072, -0.0061,  0.0089, -0.0012,\n",
       "         -0.0168, -0.0059]])"
      ]
     },
     "execution_count": 14,
     "metadata": {},
     "output_type": "execute_result"
    }
   ],
   "source": [
    "x.reshape(3,10)"
   ]
  }
 ],
 "metadata": {
  "kernelspec": {
   "display_name": "dl",
   "language": "python",
   "name": "dl"
  },
  "language_info": {
   "codemirror_mode": {
    "name": "ipython",
    "version": 3
   },
   "file_extension": ".py",
   "mimetype": "text/x-python",
   "name": "python",
   "nbconvert_exporter": "python",
   "pygments_lexer": "ipython3",
   "version": "3.8.13"
  }
 },
 "nbformat": 4,
 "nbformat_minor": 5
}
